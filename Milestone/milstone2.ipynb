{
 "cells": [
  {
   "cell_type": "code",
   "execution_count": 25,
   "metadata": {},
   "outputs": [],
   "source": [
    "import pandas as pd\n",
    "df = pd.read_csv(\"./System-Threat-Forecaster/train.csv\")\n",
    "df_copy = df.copy()"
   ]
  },
  {
   "cell_type": "markdown",
   "metadata": {},
   "source": [
    "Q1.Identify the redundant columns in the training dataset based on the values taken. *"
   ]
  },
  {
   "cell_type": "code",
   "execution_count": 26,
   "metadata": {},
   "outputs": [
    {
     "name": "stdout",
     "output_type": "stream",
     "text": [
      "IsBetaUser                     1\n",
      "AutoSampleSubmissionEnabled    1\n",
      "IsFlightsDisabled              1\n",
      "dtype: int64\n"
     ]
    }
   ],
   "source": [
    "# Find constant columns\n",
    "constant_columns = df.nunique()[df.nunique() == 1]\n",
    "print(constant_columns)\n"
   ]
  },
  {
   "cell_type": "markdown",
   "metadata": {},
   "source": [
    "Q2.Determine the columns among the given set which have the highest positive correlation."
   ]
  },
  {
   "cell_type": "code",
   "execution_count": 27,
   "metadata": {},
   "outputs": [
    {
     "data": {
      "text/plain": [
       "OSEdition  OSSkuFriendlyName    0.998856\n",
       "dtype: float64"
      ]
     },
     "execution_count": 27,
     "metadata": {},
     "output_type": "execute_result"
    }
   ],
   "source": [
    "import numpy as np\n",
    "from sklearn.preprocessing import LabelEncoder\n",
    "\n",
    "categorical_cols = df_copy.select_dtypes(include=['object']).columns\n",
    "\n",
    "encoder = LabelEncoder()\n",
    "for col in categorical_cols:\n",
    "    df_copy[col] = encoder.fit_transform(df_copy[col])\n",
    "corr_matrix = df_copy.corr()\n",
    "corr_pairs = corr_matrix.abs().unstack()\n",
    "corr_pairs =corr_pairs[corr_pairs < 1].sort_values(ascending=False)\n",
    "corr_pairs.head(1)\n",
    "\n",
    "\n"
   ]
  },
  {
   "cell_type": "markdown",
   "metadata": {},
   "source": [
    "Q3.Create a new dataframe called cat_df which contains only the columns of datatype  'object'. In cat_df, for all the columns which take less than or equal to 10 unique values, use OneHotEncoder(sparse=False, drop='first', handle_unknown='ignore'). What is the new number of columns in the cat_df dataframe?"
   ]
  },
  {
   "cell_type": "code",
   "execution_count": 38,
   "metadata": {},
   "outputs": [
    {
     "data": {
      "text/plain": [
       "82"
      ]
     },
     "execution_count": 38,
     "metadata": {},
     "output_type": "execute_result"
    }
   ],
   "source": [
    "import pandas as pd\n",
    "from sklearn.preprocessing import OneHotEncoder\n",
    "\n",
    "cat_df = df.select_dtypes(include=['object'])\n",
    "low_cardinality_cols = cat_df.nunique()[cat_df.nunique() <= 10].index\n",
    "\n",
    "encoder = OneHotEncoder(sparse_output=False, drop='first', handle_unknown='ignore')\n",
    "encoded_cols = encoder.fit_transform(cat_df[low_cardinality_cols])\n",
    "\n",
    "encoded_df = pd.DataFrame(encoded_cols, columns=encoder.get_feature_names_out(low_cardinality_cols))\n",
    "\n",
    "cat_df = cat_df.drop(columns=low_cardinality_cols)\n",
    "cat_df = pd.concat([cat_df, encoded_df], axis=1)\n",
    "cat_df.shape[1]\n"
   ]
  },
  {
   "cell_type": "markdown",
   "metadata": {},
   "source": [
    "Q4.Create a new dataframe called num_df which contains only the columns of datatype  'int64' and 'float64'. Use MinMaxScaler() on num_df. What is the sum of all the values in num_df?"
   ]
  },
  {
   "cell_type": "code",
   "execution_count": 45,
   "metadata": {},
   "outputs": [
    {
     "name": "stdout",
     "output_type": "stream",
     "text": [
      "1585115.729433082\n"
     ]
    }
   ],
   "source": [
    "from sklearn.preprocessing import MinMaxScaler\n",
    "\n",
    "num_df = df.select_dtypes(include=['int64', 'float64'])\n",
    "\n",
    "scaler = MinMaxScaler()\n",
    "scaled_num_df = pd.DataFrame(scaler.fit_transform(num_df), columns=num_df.columns)\n",
    "sum_values = scaled_num_df.sum().sum()\n",
    "print(sum_values)\n"
   ]
  },
  {
   "cell_type": "markdown",
   "metadata": {},
   "source": [
    "Use the original data (X,y) for this question. Apply the following steps on X:\n",
    "1. Use SimpleImputer to fill missing values with strategy as 'most_frequent'\n",
    "2. For all columns of datatype 'object', use OrdinalEncoder()\n",
    "3. Apply train_test_split with test_size = 0.2 and random_state = 42\n",
    "4. Train SGDClassifier with default parameters and random_state = 42\n",
    "\n",
    "What is the accuracy score received on the test data from the train_test_split?\n",
    "*\n"
   ]
  },
  {
   "cell_type": "code",
   "execution_count": 46,
   "metadata": {},
   "outputs": [
    {
     "name": "stdout",
     "output_type": "stream",
     "text": [
      "Test Accuracy: 0.4951\n"
     ]
    }
   ],
   "source": [
    "from sklearn.impute import SimpleImputer\n",
    "from sklearn.preprocessing import OrdinalEncoder\n",
    "from sklearn.model_selection import train_test_split\n",
    "from sklearn.linear_model import SGDClassifier\n",
    "from sklearn.metrics import accuracy_score\n",
    "\n",
    "imputer = SimpleImputer(strategy='most_frequent')\n",
    "df = pd.DataFrame(imputer.fit_transform(df), columns=df.columns)\n",
    "\n",
    "cat_cols = df.select_dtypes(include=['object']).columns\n",
    "encoder = OrdinalEncoder()\n",
    "df[cat_cols] = encoder.fit_transform(df[cat_cols])\n",
    "\n",
    "X = df.drop(columns=['target'])  # Replace 'target' with the actual target column name\n",
    "y = df['target']\n",
    "\n",
    "X_train, X_test, y_train, y_test = train_test_split(X, y, test_size=0.2, random_state=42)\n",
    "\n",
    "sgd_model = SGDClassifier(random_state=42)\n",
    "sgd_model.fit(X_train, y_train)\n",
    "\n",
    "y_pred = sgd_model.predict(X_test)\n",
    "accuracy = accuracy_score(y_test, y_pred)\n",
    "print(\"Test Accuracy:\", accuracy)\n",
    "\n",
    "\n",
    "\n"
   ]
  }
 ],
 "metadata": {
  "kernelspec": {
   "display_name": ".env",
   "language": "python",
   "name": "python3"
  },
  "language_info": {
   "codemirror_mode": {
    "name": "ipython",
    "version": 3
   },
   "file_extension": ".py",
   "mimetype": "text/x-python",
   "name": "python",
   "nbconvert_exporter": "python",
   "pygments_lexer": "ipython3",
   "version": "3.12.3"
  }
 },
 "nbformat": 4,
 "nbformat_minor": 2
}
