{
 "cells": [
  {
   "cell_type": "code",
   "execution_count": 26,
   "metadata": {},
   "outputs": [
    {
     "data": {
      "text/html": [
       "<div>\n",
       "<style scoped>\n",
       "    .dataframe tbody tr th:only-of-type {\n",
       "        vertical-align: middle;\n",
       "    }\n",
       "\n",
       "    .dataframe tbody tr th {\n",
       "        vertical-align: top;\n",
       "    }\n",
       "\n",
       "    .dataframe thead th {\n",
       "        text-align: right;\n",
       "    }\n",
       "</style>\n",
       "<table border=\"1\" class=\"dataframe\">\n",
       "  <thead>\n",
       "    <tr style=\"text-align: right;\">\n",
       "      <th></th>\n",
       "      <th>MachineID</th>\n",
       "      <th>ProductName</th>\n",
       "      <th>EngineVersion</th>\n",
       "      <th>AppVersion</th>\n",
       "      <th>SignatureVersion</th>\n",
       "      <th>IsBetaUser</th>\n",
       "      <th>RealTimeProtectionState</th>\n",
       "      <th>IsPassiveModeEnabled</th>\n",
       "      <th>AntivirusConfigID</th>\n",
       "      <th>NumAntivirusProductsInstalled</th>\n",
       "      <th>...</th>\n",
       "      <th>IsSecureBootEnabled</th>\n",
       "      <th>IsVirtualDevice</th>\n",
       "      <th>IsTouchEnabled</th>\n",
       "      <th>IsPenCapable</th>\n",
       "      <th>IsAlwaysOnAlwaysConnectedCapable</th>\n",
       "      <th>IsGamer</th>\n",
       "      <th>RegionIdentifier</th>\n",
       "      <th>DateAS</th>\n",
       "      <th>DateOS</th>\n",
       "      <th>target</th>\n",
       "    </tr>\n",
       "  </thead>\n",
       "  <tbody>\n",
       "    <tr>\n",
       "      <th>0</th>\n",
       "      <td>f541bae429089117c4aac39c90dd3416</td>\n",
       "      <td>win8defender</td>\n",
       "      <td>1.1.15200.1</td>\n",
       "      <td>4.18.1807.18075</td>\n",
       "      <td>1.275.1003.0</td>\n",
       "      <td>0</td>\n",
       "      <td>7.0</td>\n",
       "      <td>0</td>\n",
       "      <td>53447.0</td>\n",
       "      <td>1.0</td>\n",
       "      <td>...</td>\n",
       "      <td>0</td>\n",
       "      <td>0.0</td>\n",
       "      <td>1</td>\n",
       "      <td>0</td>\n",
       "      <td>1.0</td>\n",
       "      <td>0.0</td>\n",
       "      <td>6.0</td>\n",
       "      <td>2018-09-10 10:11:00</td>\n",
       "      <td>2018-04-17</td>\n",
       "      <td>0</td>\n",
       "    </tr>\n",
       "    <tr>\n",
       "      <th>1</th>\n",
       "      <td>dc2b14d9ce3a0ce4050bb640190f2ca5</td>\n",
       "      <td>win8defender</td>\n",
       "      <td>1.1.15100.1</td>\n",
       "      <td>4.18.1807.18075</td>\n",
       "      <td>1.273.1465.0</td>\n",
       "      <td>0</td>\n",
       "      <td>7.0</td>\n",
       "      <td>0</td>\n",
       "      <td>53447.0</td>\n",
       "      <td>1.0</td>\n",
       "      <td>...</td>\n",
       "      <td>1</td>\n",
       "      <td>0.0</td>\n",
       "      <td>0</td>\n",
       "      <td>0</td>\n",
       "      <td>0.0</td>\n",
       "      <td>0.0</td>\n",
       "      <td>10.0</td>\n",
       "      <td>2018-08-16 00:01:00</td>\n",
       "      <td>2018-08-14</td>\n",
       "      <td>1</td>\n",
       "    </tr>\n",
       "    <tr>\n",
       "      <th>2</th>\n",
       "      <td>fd20c5f010e9c5f91ad1c6b3e0da68a0</td>\n",
       "      <td>win8defender</td>\n",
       "      <td>1.1.15200.1</td>\n",
       "      <td>4.18.1807.18075</td>\n",
       "      <td>1.275.1546.0</td>\n",
       "      <td>0</td>\n",
       "      <td>7.0</td>\n",
       "      <td>0</td>\n",
       "      <td>53447.0</td>\n",
       "      <td>1.0</td>\n",
       "      <td>...</td>\n",
       "      <td>0</td>\n",
       "      <td>0.0</td>\n",
       "      <td>0</td>\n",
       "      <td>0</td>\n",
       "      <td>0.0</td>\n",
       "      <td>1.0</td>\n",
       "      <td>6.0</td>\n",
       "      <td>2018-09-20 23:20:00</td>\n",
       "      <td>2018-09-11</td>\n",
       "      <td>1</td>\n",
       "    </tr>\n",
       "    <tr>\n",
       "      <th>3</th>\n",
       "      <td>38711eae85eb77a72ec5dfdf27eb2a76</td>\n",
       "      <td>win8defender</td>\n",
       "      <td>1.1.15200.1</td>\n",
       "      <td>4.12.17007.18011</td>\n",
       "      <td>1.275.1141.0</td>\n",
       "      <td>0</td>\n",
       "      <td>7.0</td>\n",
       "      <td>0</td>\n",
       "      <td>46413.0</td>\n",
       "      <td>2.0</td>\n",
       "      <td>...</td>\n",
       "      <td>1</td>\n",
       "      <td>0.0</td>\n",
       "      <td>0</td>\n",
       "      <td>0</td>\n",
       "      <td>0.0</td>\n",
       "      <td>0.0</td>\n",
       "      <td>12.0</td>\n",
       "      <td>2018-09-14 00:32:00</td>\n",
       "      <td>2018-01-03</td>\n",
       "      <td>1</td>\n",
       "    </tr>\n",
       "    <tr>\n",
       "      <th>4</th>\n",
       "      <td>32607c9a543a9214e2c7e45800ed4849</td>\n",
       "      <td>win8defender</td>\n",
       "      <td>1.1.15200.1</td>\n",
       "      <td>4.13.17134.228</td>\n",
       "      <td>1.275.1283.0</td>\n",
       "      <td>0</td>\n",
       "      <td>7.0</td>\n",
       "      <td>0</td>\n",
       "      <td>40466.0</td>\n",
       "      <td>2.0</td>\n",
       "      <td>...</td>\n",
       "      <td>0</td>\n",
       "      <td>0.0</td>\n",
       "      <td>0</td>\n",
       "      <td>0</td>\n",
       "      <td>0.0</td>\n",
       "      <td>1.0</td>\n",
       "      <td>7.0</td>\n",
       "      <td>2018-09-15 19:34:00</td>\n",
       "      <td>2018-09-11</td>\n",
       "      <td>0</td>\n",
       "    </tr>\n",
       "  </tbody>\n",
       "</table>\n",
       "<p>5 rows × 76 columns</p>\n",
       "</div>"
      ],
      "text/plain": [
       "                          MachineID   ProductName EngineVersion  \\\n",
       "0  f541bae429089117c4aac39c90dd3416  win8defender   1.1.15200.1   \n",
       "1  dc2b14d9ce3a0ce4050bb640190f2ca5  win8defender   1.1.15100.1   \n",
       "2  fd20c5f010e9c5f91ad1c6b3e0da68a0  win8defender   1.1.15200.1   \n",
       "3  38711eae85eb77a72ec5dfdf27eb2a76  win8defender   1.1.15200.1   \n",
       "4  32607c9a543a9214e2c7e45800ed4849  win8defender   1.1.15200.1   \n",
       "\n",
       "         AppVersion SignatureVersion  IsBetaUser  RealTimeProtectionState  \\\n",
       "0   4.18.1807.18075     1.275.1003.0           0                      7.0   \n",
       "1   4.18.1807.18075     1.273.1465.0           0                      7.0   \n",
       "2   4.18.1807.18075     1.275.1546.0           0                      7.0   \n",
       "3  4.12.17007.18011     1.275.1141.0           0                      7.0   \n",
       "4    4.13.17134.228     1.275.1283.0           0                      7.0   \n",
       "\n",
       "   IsPassiveModeEnabled  AntivirusConfigID  NumAntivirusProductsInstalled  \\\n",
       "0                     0            53447.0                            1.0   \n",
       "1                     0            53447.0                            1.0   \n",
       "2                     0            53447.0                            1.0   \n",
       "3                     0            46413.0                            2.0   \n",
       "4                     0            40466.0                            2.0   \n",
       "\n",
       "   ...  IsSecureBootEnabled  IsVirtualDevice  IsTouchEnabled  IsPenCapable  \\\n",
       "0  ...                    0              0.0               1             0   \n",
       "1  ...                    1              0.0               0             0   \n",
       "2  ...                    0              0.0               0             0   \n",
       "3  ...                    1              0.0               0             0   \n",
       "4  ...                    0              0.0               0             0   \n",
       "\n",
       "   IsAlwaysOnAlwaysConnectedCapable  IsGamer RegionIdentifier  \\\n",
       "0                               1.0      0.0              6.0   \n",
       "1                               0.0      0.0             10.0   \n",
       "2                               0.0      1.0              6.0   \n",
       "3                               0.0      0.0             12.0   \n",
       "4                               0.0      1.0              7.0   \n",
       "\n",
       "                DateAS      DateOS  target  \n",
       "0  2018-09-10 10:11:00  2018-04-17       0  \n",
       "1  2018-08-16 00:01:00  2018-08-14       1  \n",
       "2  2018-09-20 23:20:00  2018-09-11       1  \n",
       "3  2018-09-14 00:32:00  2018-01-03       1  \n",
       "4  2018-09-15 19:34:00  2018-09-11       0  \n",
       "\n",
       "[5 rows x 76 columns]"
      ]
     },
     "execution_count": 26,
     "metadata": {},
     "output_type": "execute_result"
    }
   ],
   "source": [
    "import pandas as pd\n",
    "df = pd.read_csv(\"./System-Threat-Forecaster/train.csv\")\n",
    "df.head()"
   ]
  },
  {
   "cell_type": "markdown",
   "metadata": {},
   "source": [
    "Preprocessing Pipeline\n",
    "The preprocessing steps mentioned below are to be used for all the questions that are a part of this milestone\n",
    "\n",
    "    Impute the categoric columns with the mode and the numeric columns with the mean.\n",
    "\n",
    "    Perform Label encoding on all the categoric columns. Use a standard scaler to scale all the numeric columns, perform a train test split with a test size 0.2 and random state 42. "
   ]
  },
  {
   "cell_type": "code",
   "execution_count": 27,
   "metadata": {},
   "outputs": [],
   "source": [
    "from sklearn.impute import SimpleImputer\n",
    "from sklearn.preprocessing import LabelEncoder, StandardScaler\n",
    "le = LabelEncoder()\n",
    "# Selecting categorical and numerical columns\n",
    "cat_cols = df.select_dtypes(include=['object']).columns\n",
    "num_cols = df.select_dtypes(include=['int32', 'int64', 'float64']).columns\n",
    "\n",
    "# Creating imputers\n",
    "mean_imp = SimpleImputer(strategy='mean')  # For numerical columns\n",
    "mode_imp = SimpleImputer(strategy='most_frequent')  # For categorical columns\n",
    "\n",
    "# Applying imputers\n",
    "df[num_cols] = mean_imp.fit_transform(df[num_cols]) \n",
    "df[cat_cols] = mode_imp.fit_transform(df[cat_cols]) \n",
    "\n",
    "for col in cat_cols:\n",
    "    df[col] = le.fit_transform(df[col])  # Encode categorical values"
   ]
  },
  {
   "cell_type": "code",
   "execution_count": 28,
   "metadata": {},
   "outputs": [],
   "source": [
    "num_cols = df.select_dtypes(include=['int32', 'int64', 'float64']).columns.drop('target', errors='ignore')\n",
    "scaler = StandardScaler()\n",
    "df[num_cols] = scaler.fit_transform(df[num_cols])"
   ]
  },
  {
   "cell_type": "code",
   "execution_count": 29,
   "metadata": {},
   "outputs": [],
   "source": [
    "from sklearn.model_selection import train_test_split\n",
    "X = df.drop(columns=['target'])  # Features\n",
    "y = df['target']\n",
    "X_train, X_test, y_train, y_test = train_test_split(X, y, test_size=0.2, random_state=42)"
   ]
  },
  {
   "cell_type": "markdown",
   "metadata": {},
   "source": [
    "Principal Component Analysis\n",
    "Perform PCA on the dataset with default parameters and answer the following questions"
   ]
  },
  {
   "cell_type": "code",
   "execution_count": 30,
   "metadata": {},
   "outputs": [],
   "source": [
    "from sklearn.decomposition import PCA\n",
    "pca = PCA()  # Default: n_components=None\n",
    "X_pca = pca.fit_transform(df)\n"
   ]
  },
  {
   "cell_type": "markdown",
   "metadata": {},
   "source": [
    "Q1.What is the number of components required to explain 70% of the variance? *\n"
   ]
  },
  {
   "cell_type": "code",
   "execution_count": 31,
   "metadata": {},
   "outputs": [
    {
     "name": "stdout",
     "output_type": "stream",
     "text": [
      "Number of components required to explain 70% variance: 23\n"
     ]
    }
   ],
   "source": [
    "import numpy as np\n",
    "# Cumulative explained variance\n",
    "cumulative_variance = np.cumsum(pca.explained_variance_ratio_)\n",
    "\n",
    "# Find the number of components needed for 70% variance\n",
    "n_components_70 = np.argmax(cumulative_variance >= 0.70) + 1\n",
    "\n",
    "print(f\"Number of components required to explain 70% variance: {n_components_70}\")\n"
   ]
  },
  {
   "cell_type": "markdown",
   "metadata": {},
   "source": [
    "Q2.Reconstruct the data using the number of components obtained in the previous question and enter the Mean Squared Error value obtained"
   ]
  },
  {
   "cell_type": "code",
   "execution_count": 32,
   "metadata": {},
   "outputs": [
    {
     "name": "stdout",
     "output_type": "stream",
     "text": [
      "Mean Squared Error (MSE): 0.27543198862915846\n"
     ]
    }
   ],
   "source": [
    "from sklearn.metrics import mean_squared_error\n",
    "# Apply PCA with optimal number of components\n",
    "pca_70 = PCA(n_components=n_components_70)\n",
    "X_reduced = pca_70.fit_transform(df)\n",
    "\n",
    "# Reconstruct the data\n",
    "X_reconstructed = pca_70.inverse_transform(X_reduced)\n",
    "\n",
    "# Compute Mean Squared Error (MSE)\n",
    "mse = mean_squared_error(df, X_reconstructed)\n",
    "\n",
    "print(f\"Mean Squared Error (MSE): {mse}\")\n"
   ]
  },
  {
   "cell_type": "markdown",
   "metadata": {},
   "source": [
    "Q3.How much variance is explained by 40 components? *"
   ]
  },
  {
   "cell_type": "code",
   "execution_count": 33,
   "metadata": {},
   "outputs": [
    {
     "name": "stdout",
     "output_type": "stream",
     "text": [
      "Variance explained by first 40 components: 0.9117\n"
     ]
    }
   ],
   "source": [
    "# Compute cumulative explained variance\n",
    "cumulative_variance = np.cumsum(pca.explained_variance_ratio_)\n",
    "\n",
    "# Get explained variance by first 40 components\n",
    "explained_variance_40 = cumulative_variance[39]  # Index 39 (since Python uses 0-based indexing)\n",
    "\n",
    "print(f\"Variance explained by first 40 components: {explained_variance_40:.4f}\")\n"
   ]
  },
  {
   "cell_type": "markdown",
   "metadata": {},
   "source": [
    "Feature Selection\n",
    "Select top 15 features from the train dataset using f_classif as the score function"
   ]
  },
  {
   "cell_type": "code",
   "execution_count": 34,
   "metadata": {},
   "outputs": [
    {
     "name": "stdout",
     "output_type": "stream",
     "text": [
      "Top 15 selected features:\n",
      "Index(['EngineVersion', 'SignatureVersion', 'RealTimeProtectionState',\n",
      "       'AntivirusConfigID', 'NumAntivirusProductsInstalled', 'Processor',\n",
      "       'IsSystemProtected', 'ProcessorCoreCount', 'PrimaryDiskCapacityMB',\n",
      "       'TotalPhysicalRAMMB', 'PowerPlatformRole', 'OSArchitecture',\n",
      "       'IsTouchEnabled', 'IsAlwaysOnAlwaysConnectedCapable', 'IsGamer'],\n",
      "      dtype='object')\n"
     ]
    }
   ],
   "source": [
    "from sklearn.feature_selection import SelectKBest, f_classif\n",
    "from sklearn.model_selection import train_test_split\n",
    "\n",
    "X = df.drop(columns=[\"target\"])  \n",
    "y = df[\"target\"]\n",
    "\n",
    "X_train, X_test, y_train, y_test = train_test_split(X, y, test_size=0.2, random_state=42)\n",
    "\n",
    "from sklearn.feature_selection import VarianceThreshold\n",
    "\n",
    "# Remove constant features\n",
    "constant_filter = VarianceThreshold(threshold=0)  # Removes features with zero variance\n",
    "X_train_filtered = constant_filter.fit_transform(X_train)\n",
    "\n",
    "# Get filtered feature names\n",
    "filtered_features = X_train.columns[constant_filter.get_support()]\n",
    "\n",
    "# Apply SelectKBest after removing constant features\n",
    "selector = SelectKBest(score_func=f_classif, k=15)\n",
    "X_train_selected = selector.fit_transform(X_train_filtered, y_train)\n",
    "\n",
    "# Get selected feature names\n",
    "selected_features = filtered_features[selector.get_support()]\n",
    "\n",
    "print(\"Top 15 selected features:\")\n",
    "print(selected_features)\n"
   ]
  },
  {
   "cell_type": "markdown",
   "metadata": {},
   "source": [
    "What is the score of the best feature as obtained?"
   ]
  },
  {
   "cell_type": "code",
   "execution_count": 35,
   "metadata": {},
   "outputs": [
    {
     "name": "stdout",
     "output_type": "stream",
     "text": [
      "Score of the best feature: 1851.6051\n"
     ]
    }
   ],
   "source": [
    "# Get all F-scores\n",
    "f_scores = selector.scores_\n",
    "\n",
    "# Find the highest F-score (best feature score)\n",
    "best_feature_score = max(f_scores)\n",
    "\n",
    "print(f\"Score of the best feature: {best_feature_score:.4f}\")"
   ]
  },
  {
   "cell_type": "markdown",
   "metadata": {},
   "source": [
    "Make use of different feature selection methods and describe your process and findings. \n",
    "Fit Lasso and Ridge models and provide your insights on the values of the coefficients obtained"
   ]
  },
  {
   "cell_type": "code",
   "execution_count": 36,
   "metadata": {},
   "outputs": [],
   "source": [
    "from sklearn.feature_selection import RFE\n",
    "from sklearn.linear_model import LinearRegression\n",
    "\n",
    "# Define the model (use Linear Regression for RFE)\n",
    "model = LinearRegression()\n",
    "\n",
    "# Apply RFE (keep top 15 features)\n",
    "rfe = RFE(estimator=model, n_features_to_select=15)\n",
    "X_train_selected = rfe.fit_transform(X_train, y_train)\n",
    "X_test_selected = rfe.transform(X_test)\n",
    "\n",
    "selected_features = X_train.columns[rfe.support_]\n"
   ]
  },
  {
   "cell_type": "markdown",
   "metadata": {},
   "source": [
    "Fit Lasso & Ridge on Selected Features"
   ]
  },
  {
   "cell_type": "code",
   "execution_count": 37,
   "metadata": {},
   "outputs": [
    {
     "name": "stdout",
     "output_type": "stream",
     "text": [
      "Lasso MSE: 0.2500\n"
     ]
    }
   ],
   "source": [
    "from sklearn.linear_model import Lasso\n",
    "from sklearn.metrics import mean_squared_error\n",
    "\n",
    "# Train Lasso model\n",
    "lasso = Lasso(alpha=0.1)\n",
    "lasso.fit(X_train_selected, y_train)\n",
    "\n",
    "# Predict\n",
    "y_pred_lasso = lasso.predict(X_test_selected)\n",
    "\n",
    "# Compute MSE\n",
    "mse_lasso = mean_squared_error(y_test, y_pred_lasso)\n",
    "print(f\"Lasso MSE: {mse_lasso:.4f}\")\n",
    "\n",
    "# Display non-zero coefficients\n",
    "lasso_coeffs = pd.Series(lasso.coef_, index=selected_features)\n"
   ]
  },
  {
   "cell_type": "markdown",
   "metadata": {},
   "source": [
    "Ridge Regression (L2)"
   ]
  },
  {
   "cell_type": "code",
   "execution_count": 38,
   "metadata": {},
   "outputs": [
    {
     "name": "stdout",
     "output_type": "stream",
     "text": [
      "Ridge MSE: 0.2392\n",
      "Ridge Coefficients:\n",
      "OSEdition                             0.082527\n",
      "OSProductSuite                        0.050425\n",
      "PrimaryDiskCapacityMB                 0.036127\n",
      "IsSystemProtected                     0.033359\n",
      "OSInstallLanguageID                   0.030409\n",
      "AntivirusConfigID                     0.026930\n",
      "IsGamer                               0.025368\n",
      "PrimaryDisplayResolutionHorizontal    0.007679\n",
      "IsVirtualDevice                      -0.022262\n",
      "SystemVolumeCapacityMB               -0.023591\n",
      "Processor                            -0.026386\n",
      "IsAlwaysOnAlwaysConnectedCapable     -0.026581\n",
      "OSUILocaleID                         -0.031280\n",
      "OSSkuFriendlyName                    -0.031910\n",
      "NumAntivirusProductsInstalled        -0.063432\n",
      "dtype: float64\n"
     ]
    }
   ],
   "source": [
    "from sklearn.linear_model import Ridge\n",
    "\n",
    "# Train Ridge model\n",
    "ridge = Ridge(alpha=0.1)\n",
    "ridge.fit(X_train_selected, y_train)\n",
    "\n",
    "# Predict\n",
    "y_pred_ridge = ridge.predict(X_test_selected)\n",
    "\n",
    "# Compute MSE\n",
    "mse_ridge = mean_squared_error(y_test, y_pred_ridge)\n",
    "print(f\"Ridge MSE: {mse_ridge:.4f}\")\n",
    "\n",
    "# Display all coefficients\n",
    "ridge_coeffs = pd.Series(ridge.coef_, index=selected_features)\n",
    "print(\"Ridge Coefficients:\")\n",
    "print(ridge_coeffs.sort_values(ascending=False))\n"
   ]
  }
 ],
 "metadata": {
  "kernelspec": {
   "display_name": ".env",
   "language": "python",
   "name": "python3"
  },
  "language_info": {
   "codemirror_mode": {
    "name": "ipython",
    "version": 3
   },
   "file_extension": ".py",
   "mimetype": "text/x-python",
   "name": "python",
   "nbconvert_exporter": "python",
   "pygments_lexer": "ipython3",
   "version": "3.12.3"
  }
 },
 "nbformat": 4,
 "nbformat_minor": 2
}
