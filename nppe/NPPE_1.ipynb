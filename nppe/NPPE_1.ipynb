{
  "nbformat": 4,
  "nbformat_minor": 0,
  "metadata": {
    "colab": {
      "provenance": []
    },
    "kernelspec": {
      "name": "python3",
      "display_name": "Python 3"
    },
    "language_info": {
      "name": "python"
    }
  },
  "cells": [
    {
      "cell_type": "code",
      "execution_count": 289,
      "metadata": {
        "colab": {
          "base_uri": "https://localhost:8080/",
          "height": 226
        },
        "id": "NqX7PqELcDQ2",
        "outputId": "f1ec403d-a9b7-4bb3-8244-ea132ba78820"
      },
      "outputs": [
        {
          "output_type": "execute_result",
          "data": {
            "text/plain": [
              "        CRIM         ZN      INDUS  POLINDEX   RM   AGE        DIS  \\\n",
              "0   1.026769   1.429034   7.851300  1.134216  6.0  42.0   5.251911   \n",
              "1   0.848089   0.255543   6.263434  1.245993  7.0  63.0   4.305546   \n",
              "2  10.925905   0.441022  18.322960  2.824833  8.0  -2.0   2.409495   \n",
              "3   0.559027   1.041175  11.114920  0.794952  6.0   9.0   6.898669   \n",
              "4   0.905063  81.167963   3.673369  1.029030  8.0  20.0  10.246463   \n",
              "\n",
              "   HIGHWAYCOUNT         TAX    PTRATIO         IMM        BPL      PRICE  \\\n",
              "0             5  279.201277  20.689586  398.811960  10.461456  22.991633   \n",
              "1             8  307.444529  17.465398  377.153649  11.619690  24.551055   \n",
              "2            25  666.492973  20.351601  387.061355  19.366070  15.875346   \n",
              "3             4  305.514181  19.787314  391.778647   6.206820  23.007756   \n",
              "4             1  315.913960  17.360439  395.833166  10.827105  21.503177   \n",
              "\n",
              "  RIVERSIDE  \n",
              "0        NO  \n",
              "1        NO  \n",
              "2        NO  \n",
              "3        NO  \n",
              "4        NO  "
            ],
            "text/html": [
              "\n",
              "  <div id=\"df-379eb002-964e-4fb0-b401-c511f0cdf3b5\" class=\"colab-df-container\">\n",
              "    <div>\n",
              "<style scoped>\n",
              "    .dataframe tbody tr th:only-of-type {\n",
              "        vertical-align: middle;\n",
              "    }\n",
              "\n",
              "    .dataframe tbody tr th {\n",
              "        vertical-align: top;\n",
              "    }\n",
              "\n",
              "    .dataframe thead th {\n",
              "        text-align: right;\n",
              "    }\n",
              "</style>\n",
              "<table border=\"1\" class=\"dataframe\">\n",
              "  <thead>\n",
              "    <tr style=\"text-align: right;\">\n",
              "      <th></th>\n",
              "      <th>CRIM</th>\n",
              "      <th>ZN</th>\n",
              "      <th>INDUS</th>\n",
              "      <th>POLINDEX</th>\n",
              "      <th>RM</th>\n",
              "      <th>AGE</th>\n",
              "      <th>DIS</th>\n",
              "      <th>HIGHWAYCOUNT</th>\n",
              "      <th>TAX</th>\n",
              "      <th>PTRATIO</th>\n",
              "      <th>IMM</th>\n",
              "      <th>BPL</th>\n",
              "      <th>PRICE</th>\n",
              "      <th>RIVERSIDE</th>\n",
              "    </tr>\n",
              "  </thead>\n",
              "  <tbody>\n",
              "    <tr>\n",
              "      <th>0</th>\n",
              "      <td>1.026769</td>\n",
              "      <td>1.429034</td>\n",
              "      <td>7.851300</td>\n",
              "      <td>1.134216</td>\n",
              "      <td>6.0</td>\n",
              "      <td>42.0</td>\n",
              "      <td>5.251911</td>\n",
              "      <td>5</td>\n",
              "      <td>279.201277</td>\n",
              "      <td>20.689586</td>\n",
              "      <td>398.811960</td>\n",
              "      <td>10.461456</td>\n",
              "      <td>22.991633</td>\n",
              "      <td>NO</td>\n",
              "    </tr>\n",
              "    <tr>\n",
              "      <th>1</th>\n",
              "      <td>0.848089</td>\n",
              "      <td>0.255543</td>\n",
              "      <td>6.263434</td>\n",
              "      <td>1.245993</td>\n",
              "      <td>7.0</td>\n",
              "      <td>63.0</td>\n",
              "      <td>4.305546</td>\n",
              "      <td>8</td>\n",
              "      <td>307.444529</td>\n",
              "      <td>17.465398</td>\n",
              "      <td>377.153649</td>\n",
              "      <td>11.619690</td>\n",
              "      <td>24.551055</td>\n",
              "      <td>NO</td>\n",
              "    </tr>\n",
              "    <tr>\n",
              "      <th>2</th>\n",
              "      <td>10.925905</td>\n",
              "      <td>0.441022</td>\n",
              "      <td>18.322960</td>\n",
              "      <td>2.824833</td>\n",
              "      <td>8.0</td>\n",
              "      <td>-2.0</td>\n",
              "      <td>2.409495</td>\n",
              "      <td>25</td>\n",
              "      <td>666.492973</td>\n",
              "      <td>20.351601</td>\n",
              "      <td>387.061355</td>\n",
              "      <td>19.366070</td>\n",
              "      <td>15.875346</td>\n",
              "      <td>NO</td>\n",
              "    </tr>\n",
              "    <tr>\n",
              "      <th>3</th>\n",
              "      <td>0.559027</td>\n",
              "      <td>1.041175</td>\n",
              "      <td>11.114920</td>\n",
              "      <td>0.794952</td>\n",
              "      <td>6.0</td>\n",
              "      <td>9.0</td>\n",
              "      <td>6.898669</td>\n",
              "      <td>4</td>\n",
              "      <td>305.514181</td>\n",
              "      <td>19.787314</td>\n",
              "      <td>391.778647</td>\n",
              "      <td>6.206820</td>\n",
              "      <td>23.007756</td>\n",
              "      <td>NO</td>\n",
              "    </tr>\n",
              "    <tr>\n",
              "      <th>4</th>\n",
              "      <td>0.905063</td>\n",
              "      <td>81.167963</td>\n",
              "      <td>3.673369</td>\n",
              "      <td>1.029030</td>\n",
              "      <td>8.0</td>\n",
              "      <td>20.0</td>\n",
              "      <td>10.246463</td>\n",
              "      <td>1</td>\n",
              "      <td>315.913960</td>\n",
              "      <td>17.360439</td>\n",
              "      <td>395.833166</td>\n",
              "      <td>10.827105</td>\n",
              "      <td>21.503177</td>\n",
              "      <td>NO</td>\n",
              "    </tr>\n",
              "  </tbody>\n",
              "</table>\n",
              "</div>\n",
              "    <div class=\"colab-df-buttons\">\n",
              "\n",
              "  <div class=\"colab-df-container\">\n",
              "    <button class=\"colab-df-convert\" onclick=\"convertToInteractive('df-379eb002-964e-4fb0-b401-c511f0cdf3b5')\"\n",
              "            title=\"Convert this dataframe to an interactive table.\"\n",
              "            style=\"display:none;\">\n",
              "\n",
              "  <svg xmlns=\"http://www.w3.org/2000/svg\" height=\"24px\" viewBox=\"0 -960 960 960\">\n",
              "    <path d=\"M120-120v-720h720v720H120Zm60-500h600v-160H180v160Zm220 220h160v-160H400v160Zm0 220h160v-160H400v160ZM180-400h160v-160H180v160Zm440 0h160v-160H620v160ZM180-180h160v-160H180v160Zm440 0h160v-160H620v160Z\"/>\n",
              "  </svg>\n",
              "    </button>\n",
              "\n",
              "  <style>\n",
              "    .colab-df-container {\n",
              "      display:flex;\n",
              "      gap: 12px;\n",
              "    }\n",
              "\n",
              "    .colab-df-convert {\n",
              "      background-color: #E8F0FE;\n",
              "      border: none;\n",
              "      border-radius: 50%;\n",
              "      cursor: pointer;\n",
              "      display: none;\n",
              "      fill: #1967D2;\n",
              "      height: 32px;\n",
              "      padding: 0 0 0 0;\n",
              "      width: 32px;\n",
              "    }\n",
              "\n",
              "    .colab-df-convert:hover {\n",
              "      background-color: #E2EBFA;\n",
              "      box-shadow: 0px 1px 2px rgba(60, 64, 67, 0.3), 0px 1px 3px 1px rgba(60, 64, 67, 0.15);\n",
              "      fill: #174EA6;\n",
              "    }\n",
              "\n",
              "    .colab-df-buttons div {\n",
              "      margin-bottom: 4px;\n",
              "    }\n",
              "\n",
              "    [theme=dark] .colab-df-convert {\n",
              "      background-color: #3B4455;\n",
              "      fill: #D2E3FC;\n",
              "    }\n",
              "\n",
              "    [theme=dark] .colab-df-convert:hover {\n",
              "      background-color: #434B5C;\n",
              "      box-shadow: 0px 1px 3px 1px rgba(0, 0, 0, 0.15);\n",
              "      filter: drop-shadow(0px 1px 2px rgba(0, 0, 0, 0.3));\n",
              "      fill: #FFFFFF;\n",
              "    }\n",
              "  </style>\n",
              "\n",
              "    <script>\n",
              "      const buttonEl =\n",
              "        document.querySelector('#df-379eb002-964e-4fb0-b401-c511f0cdf3b5 button.colab-df-convert');\n",
              "      buttonEl.style.display =\n",
              "        google.colab.kernel.accessAllowed ? 'block' : 'none';\n",
              "\n",
              "      async function convertToInteractive(key) {\n",
              "        const element = document.querySelector('#df-379eb002-964e-4fb0-b401-c511f0cdf3b5');\n",
              "        const dataTable =\n",
              "          await google.colab.kernel.invokeFunction('convertToInteractive',\n",
              "                                                    [key], {});\n",
              "        if (!dataTable) return;\n",
              "\n",
              "        const docLinkHtml = 'Like what you see? Visit the ' +\n",
              "          '<a target=\"_blank\" href=https://colab.research.google.com/notebooks/data_table.ipynb>data table notebook</a>'\n",
              "          + ' to learn more about interactive tables.';\n",
              "        element.innerHTML = '';\n",
              "        dataTable['output_type'] = 'display_data';\n",
              "        await google.colab.output.renderOutput(dataTable, element);\n",
              "        const docLink = document.createElement('div');\n",
              "        docLink.innerHTML = docLinkHtml;\n",
              "        element.appendChild(docLink);\n",
              "      }\n",
              "    </script>\n",
              "  </div>\n",
              "\n",
              "\n",
              "<div id=\"df-483389d5-c083-4244-9e51-a6156c953608\">\n",
              "  <button class=\"colab-df-quickchart\" onclick=\"quickchart('df-483389d5-c083-4244-9e51-a6156c953608')\"\n",
              "            title=\"Suggest charts\"\n",
              "            style=\"display:none;\">\n",
              "\n",
              "<svg xmlns=\"http://www.w3.org/2000/svg\" height=\"24px\"viewBox=\"0 0 24 24\"\n",
              "     width=\"24px\">\n",
              "    <g>\n",
              "        <path d=\"M19 3H5c-1.1 0-2 .9-2 2v14c0 1.1.9 2 2 2h14c1.1 0 2-.9 2-2V5c0-1.1-.9-2-2-2zM9 17H7v-7h2v7zm4 0h-2V7h2v10zm4 0h-2v-4h2v4z\"/>\n",
              "    </g>\n",
              "</svg>\n",
              "  </button>\n",
              "\n",
              "<style>\n",
              "  .colab-df-quickchart {\n",
              "      --bg-color: #E8F0FE;\n",
              "      --fill-color: #1967D2;\n",
              "      --hover-bg-color: #E2EBFA;\n",
              "      --hover-fill-color: #174EA6;\n",
              "      --disabled-fill-color: #AAA;\n",
              "      --disabled-bg-color: #DDD;\n",
              "  }\n",
              "\n",
              "  [theme=dark] .colab-df-quickchart {\n",
              "      --bg-color: #3B4455;\n",
              "      --fill-color: #D2E3FC;\n",
              "      --hover-bg-color: #434B5C;\n",
              "      --hover-fill-color: #FFFFFF;\n",
              "      --disabled-bg-color: #3B4455;\n",
              "      --disabled-fill-color: #666;\n",
              "  }\n",
              "\n",
              "  .colab-df-quickchart {\n",
              "    background-color: var(--bg-color);\n",
              "    border: none;\n",
              "    border-radius: 50%;\n",
              "    cursor: pointer;\n",
              "    display: none;\n",
              "    fill: var(--fill-color);\n",
              "    height: 32px;\n",
              "    padding: 0;\n",
              "    width: 32px;\n",
              "  }\n",
              "\n",
              "  .colab-df-quickchart:hover {\n",
              "    background-color: var(--hover-bg-color);\n",
              "    box-shadow: 0 1px 2px rgba(60, 64, 67, 0.3), 0 1px 3px 1px rgba(60, 64, 67, 0.15);\n",
              "    fill: var(--button-hover-fill-color);\n",
              "  }\n",
              "\n",
              "  .colab-df-quickchart-complete:disabled,\n",
              "  .colab-df-quickchart-complete:disabled:hover {\n",
              "    background-color: var(--disabled-bg-color);\n",
              "    fill: var(--disabled-fill-color);\n",
              "    box-shadow: none;\n",
              "  }\n",
              "\n",
              "  .colab-df-spinner {\n",
              "    border: 2px solid var(--fill-color);\n",
              "    border-color: transparent;\n",
              "    border-bottom-color: var(--fill-color);\n",
              "    animation:\n",
              "      spin 1s steps(1) infinite;\n",
              "  }\n",
              "\n",
              "  @keyframes spin {\n",
              "    0% {\n",
              "      border-color: transparent;\n",
              "      border-bottom-color: var(--fill-color);\n",
              "      border-left-color: var(--fill-color);\n",
              "    }\n",
              "    20% {\n",
              "      border-color: transparent;\n",
              "      border-left-color: var(--fill-color);\n",
              "      border-top-color: var(--fill-color);\n",
              "    }\n",
              "    30% {\n",
              "      border-color: transparent;\n",
              "      border-left-color: var(--fill-color);\n",
              "      border-top-color: var(--fill-color);\n",
              "      border-right-color: var(--fill-color);\n",
              "    }\n",
              "    40% {\n",
              "      border-color: transparent;\n",
              "      border-right-color: var(--fill-color);\n",
              "      border-top-color: var(--fill-color);\n",
              "    }\n",
              "    60% {\n",
              "      border-color: transparent;\n",
              "      border-right-color: var(--fill-color);\n",
              "    }\n",
              "    80% {\n",
              "      border-color: transparent;\n",
              "      border-right-color: var(--fill-color);\n",
              "      border-bottom-color: var(--fill-color);\n",
              "    }\n",
              "    90% {\n",
              "      border-color: transparent;\n",
              "      border-bottom-color: var(--fill-color);\n",
              "    }\n",
              "  }\n",
              "</style>\n",
              "\n",
              "  <script>\n",
              "    async function quickchart(key) {\n",
              "      const quickchartButtonEl =\n",
              "        document.querySelector('#' + key + ' button');\n",
              "      quickchartButtonEl.disabled = true;  // To prevent multiple clicks.\n",
              "      quickchartButtonEl.classList.add('colab-df-spinner');\n",
              "      try {\n",
              "        const charts = await google.colab.kernel.invokeFunction(\n",
              "            'suggestCharts', [key], {});\n",
              "      } catch (error) {\n",
              "        console.error('Error during call to suggestCharts:', error);\n",
              "      }\n",
              "      quickchartButtonEl.classList.remove('colab-df-spinner');\n",
              "      quickchartButtonEl.classList.add('colab-df-quickchart-complete');\n",
              "    }\n",
              "    (() => {\n",
              "      let quickchartButtonEl =\n",
              "        document.querySelector('#df-483389d5-c083-4244-9e51-a6156c953608 button');\n",
              "      quickchartButtonEl.style.display =\n",
              "        google.colab.kernel.accessAllowed ? 'block' : 'none';\n",
              "    })();\n",
              "  </script>\n",
              "</div>\n",
              "\n",
              "    </div>\n",
              "  </div>\n"
            ],
            "application/vnd.google.colaboratory.intrinsic+json": {
              "type": "dataframe",
              "variable_name": "df",
              "summary": "{\n  \"name\": \"df\",\n  \"rows\": 4000,\n  \"fields\": [\n    {\n      \"column\": \"CRIM\",\n      \"properties\": {\n        \"dtype\": \"number\",\n        \"std\": 2.4756462622728774,\n        \"min\": 0.0310930438582509,\n        \"max\": 12.619405277902771,\n        \"num_unique_values\": 4000,\n        \"samples\": [\n          10.831224921095714,\n          0.953207752853487,\n          5.781132959514714\n        ],\n        \"semantic_type\": \"\",\n        \"description\": \"\"\n      }\n    },\n    {\n      \"column\": \"ZN\",\n      \"properties\": {\n        \"dtype\": \"number\",\n        \"std\": 23.312648793994484,\n        \"min\": 0.0002814402235964,\n        \"max\": 101.67073973465143,\n        \"num_unique_values\": 4000,\n        \"samples\": [\n          0.4565955423160071,\n          22.58564221235115,\n          0.5626399885644546\n        ],\n        \"semantic_type\": \"\",\n        \"description\": \"\"\n      }\n    },\n    {\n      \"column\": \"INDUS\",\n      \"properties\": {\n        \"dtype\": \"number\",\n        \"std\": 6.827508528281335,\n        \"min\": 0.6333879398140939,\n        \"max\": 30.36720906351064,\n        \"num_unique_values\": 4000,\n        \"samples\": [\n          18.3465226507992,\n          6.370536592918024,\n          19.6492039971422\n        ],\n        \"semantic_type\": \"\",\n        \"description\": \"\"\n      }\n    },\n    {\n      \"column\": \"POLINDEX\",\n      \"properties\": {\n        \"dtype\": \"number\",\n        \"std\": 0.6010235583614255,\n        \"min\": 0.4050847999570661,\n        \"max\": 4.156570046265983,\n        \"num_unique_values\": 4000,\n        \"samples\": [\n          0.8787669990613265,\n          1.3178252880593984,\n          2.383613383451163\n        ],\n        \"semantic_type\": \"\",\n        \"description\": \"\"\n      }\n    },\n    {\n      \"column\": \"RM\",\n      \"properties\": {\n        \"dtype\": \"number\",\n        \"std\": 1.240525886920178,\n        \"min\": -1.0,\n        \"max\": 11.0,\n        \"num_unique_values\": 9,\n        \"samples\": [\n          4.0,\n          7.0,\n          -1.0\n        ],\n        \"semantic_type\": \"\",\n        \"description\": \"\"\n      }\n    },\n    {\n      \"column\": \"AGE\",\n      \"properties\": {\n        \"dtype\": \"number\",\n        \"std\": 29.10092250982311,\n        \"min\": -2.0,\n        \"max\": 103.0,\n        \"num_unique_values\": 102,\n        \"samples\": [\n          93.0,\n          79.0,\n          45.0\n        ],\n        \"semantic_type\": \"\",\n        \"description\": \"\"\n      }\n    },\n    {\n      \"column\": \"DIS\",\n      \"properties\": {\n        \"dtype\": \"number\",\n        \"std\": 2.174427190759426,\n        \"min\": 1.163081974016663,\n        \"max\": 14.045317837400347,\n        \"num_unique_values\": 4000,\n        \"samples\": [\n          2.121423729026626,\n          8.360003011817742,\n          3.276015197630771\n        ],\n        \"semantic_type\": \"\",\n        \"description\": \"\"\n      }\n    },\n    {\n      \"column\": \"HIGHWAYCOUNT\",\n      \"properties\": {\n        \"dtype\": \"number\",\n        \"std\": 7,\n        \"min\": 1,\n        \"max\": 27,\n        \"num_unique_values\": 15,\n        \"samples\": [\n          3,\n          10,\n          5\n        ],\n        \"semantic_type\": \"\",\n        \"description\": \"\"\n      }\n    },\n    {\n      \"column\": \"TAX\",\n      \"properties\": {\n        \"dtype\": \"number\",\n        \"std\": 150.270818062805,\n        \"min\": 187.0250989029544,\n        \"max\": 713.0281332130706,\n        \"num_unique_values\": 4000,\n        \"samples\": [\n          666.7737254901376,\n          330.2367374981048,\n          666.8191889914782\n        ],\n        \"semantic_type\": \"\",\n        \"description\": \"\"\n      }\n    },\n    {\n      \"column\": \"PTRATIO\",\n      \"properties\": {\n        \"dtype\": \"number\",\n        \"std\": 2.2672931299145693,\n        \"min\": 12.641899141366697,\n        \"max\": 24.322091262098887,\n        \"num_unique_values\": 4000,\n        \"samples\": [\n          20.3751522578949,\n          20.27653854707035,\n          21.379232569949977\n        ],\n        \"semantic_type\": \"\",\n        \"description\": \"\"\n      }\n    },\n    {\n      \"column\": \"IMM\",\n      \"properties\": {\n        \"dtype\": \"number\",\n        \"std\": 67.68758632464606,\n        \"min\": 0.5329802728126296,\n        \"max\": 400.7805827462825,\n        \"num_unique_values\": 4000,\n        \"samples\": [\n          387.7735652778036,\n          390.541475574156,\n          10.537791860822836\n        ],\n        \"semantic_type\": \"\",\n        \"description\": \"\"\n      }\n    },\n    {\n      \"column\": \"BPL\",\n      \"properties\": {\n        \"dtype\": \"number\",\n        \"std\": 6.143059504735248,\n        \"min\": 1.9862953413087248,\n        \"max\": 35.99728129531004,\n        \"num_unique_values\": 4000,\n        \"samples\": [\n          19.50195563710608,\n          9.967248102302412,\n          19.71927265986072\n        ],\n        \"semantic_type\": \"\",\n        \"description\": \"\"\n      }\n    },\n    {\n      \"column\": \"PRICE\",\n      \"properties\": {\n        \"dtype\": \"number\",\n        \"std\": 8.633523119748661,\n        \"min\": 6.3482657858979215,\n        \"max\": 53.09025591497754,\n        \"num_unique_values\": 4000,\n        \"samples\": [\n          16.913047426817688,\n          25.04725435512905,\n          14.44370427335717\n        ],\n        \"semantic_type\": \"\",\n        \"description\": \"\"\n      }\n    },\n    {\n      \"column\": \"RIVERSIDE\",\n      \"properties\": {\n        \"dtype\": \"category\",\n        \"num_unique_values\": 3,\n        \"samples\": [\n          \"NO\",\n          \"UNKNOWN\",\n          \"YES\"\n        ],\n        \"semantic_type\": \"\",\n        \"description\": \"\"\n      }\n    }\n  ]\n}"
            }
          },
          "metadata": {},
          "execution_count": 289
        }
      ],
      "source": [
        "import pandas as pd\n",
        "from sklearn.impute import SimpleImputer\n",
        "from sklearn.pipeline import Pipeline\n",
        "df = pd.read_csv('NPPE1_Preprocessing1.csv')\n",
        "df.head()"
      ]
    },
    {
      "cell_type": "markdown",
      "source": [
        "How many samples are there in the dataset?"
      ],
      "metadata": {
        "id": "iC44ly1igUYP"
      }
    },
    {
      "cell_type": "code",
      "source": [
        "df.shape[0]"
      ],
      "metadata": {
        "colab": {
          "base_uri": "https://localhost:8080/"
        },
        "id": "wDzEmkj8de13",
        "outputId": "78da969c-5260-4a2e-f6d0-55da862d3394"
      },
      "execution_count": 290,
      "outputs": [
        {
          "output_type": "execute_result",
          "data": {
            "text/plain": [
              "4000"
            ]
          },
          "metadata": {},
          "execution_count": 290
        }
      ]
    },
    {
      "cell_type": "markdown",
      "source": [
        "What is the average house price (in lacs)?"
      ],
      "metadata": {
        "id": "R_mjaYzfgY6R"
      }
    },
    {
      "cell_type": "code",
      "source": [
        "df['PRICE'].mean()"
      ],
      "metadata": {
        "colab": {
          "base_uri": "https://localhost:8080/"
        },
        "id": "LXqK1g0adlAP",
        "outputId": "6d2318d5-26b3-413a-a986-0283ae057ae6"
      },
      "execution_count": 291,
      "outputs": [
        {
          "output_type": "execute_result",
          "data": {
            "text/plain": [
              "24.355923220694248"
            ]
          },
          "metadata": {},
          "execution_count": 291
        }
      ]
    },
    {
      "cell_type": "markdown",
      "source": [
        "How many houses have 5 or more rooms?"
      ],
      "metadata": {
        "id": "GxzKPdp0gdQl"
      }
    },
    {
      "cell_type": "code",
      "source": [
        "(df[\"RM\"] >= 5).sum()"
      ],
      "metadata": {
        "colab": {
          "base_uri": "https://localhost:8080/"
        },
        "id": "dXQbG1Ungw51",
        "outputId": "6de8a176-2184-441d-dfb9-7b3c7e61e6a2"
      },
      "execution_count": 292,
      "outputs": [
        {
          "output_type": "execute_result",
          "data": {
            "text/plain": [
              "3953"
            ]
          },
          "metadata": {},
          "execution_count": 292
        }
      ]
    },
    {
      "cell_type": "markdown",
      "source": [
        "What is the average price of the top 10 most expensive houses (in lacs)?"
      ],
      "metadata": {
        "id": "gkthr26ahNbu"
      }
    },
    {
      "cell_type": "code",
      "source": [
        "df['PRICE'].sort_values(ascending = False).head(10).mean()"
      ],
      "metadata": {
        "colab": {
          "base_uri": "https://localhost:8080/"
        },
        "id": "QJ5g7lkyhPLl",
        "outputId": "967e6d35-13b4-4865-da0e-0c0eae869273"
      },
      "execution_count": 293,
      "outputs": [
        {
          "output_type": "execute_result",
          "data": {
            "text/plain": [
              "52.36590175716407"
            ]
          },
          "metadata": {},
          "execution_count": 293
        }
      ]
    },
    {
      "cell_type": "markdown",
      "source": [
        "\n",
        "What is the total number of missing or unknown values in the number of rooms feature?"
      ],
      "metadata": {
        "id": "Hi24qZKDkcHg"
      }
    },
    {
      "cell_type": "code",
      "source": [
        "df[ (df['RM'] <= 0)].shape[0]"
      ],
      "metadata": {
        "colab": {
          "base_uri": "https://localhost:8080/"
        },
        "id": "fReqadIQnN05",
        "outputId": "3d9ed218-fcb4-4395-d6a1-571c6afc7330"
      },
      "execution_count": 294,
      "outputs": [
        {
          "output_type": "execute_result",
          "data": {
            "text/plain": [
              "40"
            ]
          },
          "metadata": {},
          "execution_count": 294
        }
      ]
    },
    {
      "cell_type": "markdown",
      "source": [
        "What is the total number of missing or unknown values in the age feature?\n"
      ],
      "metadata": {
        "id": "wYZYwkKMlJmJ"
      }
    },
    {
      "cell_type": "code",
      "source": [
        "age_miss = df['AGE'].isnull().sum() + df[(df['AGE'] < 0) | (df['AGE'] > 200)].shape[0]\n",
        "age_miss"
      ],
      "metadata": {
        "colab": {
          "base_uri": "https://localhost:8080/"
        },
        "id": "JC_5drABmshp",
        "outputId": "dafe9b4c-b55a-47cf-ce5c-3d3fc34bd6ae"
      },
      "execution_count": 295,
      "outputs": [
        {
          "output_type": "execute_result",
          "data": {
            "text/plain": [
              "50"
            ]
          },
          "metadata": {},
          "execution_count": 295
        }
      ]
    },
    {
      "cell_type": "markdown",
      "source": [
        "What is the total number of missing or unknown values in the RIVERSIDE feature?"
      ],
      "metadata": {
        "id": "zopwsxe5rQY_"
      }
    },
    {
      "cell_type": "markdown",
      "source": [],
      "metadata": {
        "id": "CN6yUJ-4pXno"
      }
    },
    {
      "cell_type": "code",
      "source": [
        "river_miss = df['RIVERSIDE'].isnull().sum() + df[~df['RIVERSIDE'].isin(['NO', 'YES'])].shape[0]\n",
        "river_miss"
      ],
      "metadata": {
        "colab": {
          "base_uri": "https://localhost:8080/"
        },
        "id": "RWF-Wsb_p7pU",
        "outputId": "4fa59910-a422-4c9f-8595-03f4edf652f3"
      },
      "execution_count": 296,
      "outputs": [
        {
          "output_type": "execute_result",
          "data": {
            "text/plain": [
              "88"
            ]
          },
          "metadata": {},
          "execution_count": 296
        }
      ]
    },
    {
      "cell_type": "markdown",
      "source": [
        "How many houses are on riverside and were built within the last 50 years (i.e. a house 50 years old or younger)? For this question, ignore the rows that have missing values in either riverside feature or age feature."
      ],
      "metadata": {
        "id": "uHv5IhRt7zd2"
      }
    },
    {
      "cell_type": "code",
      "source": [
        "df[(df['RIVERSIDE']=='YES')& (df['AGE'] > 0)&(df['AGE']<=50)].shape[0]"
      ],
      "metadata": {
        "colab": {
          "base_uri": "https://localhost:8080/"
        },
        "id": "C2mZjGKU70V2",
        "outputId": "02c233f0-8f20-4ef0-84aa-ec2fbd4b3744"
      },
      "execution_count": 297,
      "outputs": [
        {
          "output_type": "execute_result",
          "data": {
            "text/plain": [
              "44"
            ]
          },
          "metadata": {},
          "execution_count": 297
        }
      ]
    },
    {
      "cell_type": "markdown",
      "source": [
        "How many houses are near to exactly 6, 7 or 8 highways (all three inclusive)?"
      ],
      "metadata": {
        "id": "wal2iRZnF0ER"
      }
    },
    {
      "cell_type": "code",
      "source": [
        "df['HIGHWAYCOUNT'].isin([6,7,8]).sum()"
      ],
      "metadata": {
        "colab": {
          "base_uri": "https://localhost:8080/"
        },
        "id": "Gd_Z7ItPGGXl",
        "outputId": "8666c6e6-d968-43a6-b413-40ebb3cbdff5"
      },
      "execution_count": 298,
      "outputs": [
        {
          "output_type": "execute_result",
          "data": {
            "text/plain": [
              "1211"
            ]
          },
          "metadata": {},
          "execution_count": 298
        }
      ]
    },
    {
      "cell_type": "markdown",
      "source": [
        "\n",
        "Create a column 'CATEGORY' and divide the houses in categories as following:\n",
        "\n",
        "Category 1: house price <10 lacs\n",
        "\n",
        "Category 2: 10 lacs <= house price <20 lacs\n",
        "\n",
        "Category 3: 20 lacs <= house price <30 lacs\n",
        "\n",
        "Category 4: 30 lacs <= house price <40 lacs\n",
        "\n",
        "Category 5: house price >=40 lacs\n",
        "\n",
        "Which category has the highest number of records?"
      ],
      "metadata": {
        "id": "WOl1oJ4JGPxT"
      }
    },
    {
      "cell_type": "code",
      "source": [
        "category_labels = ['Category 1', 'Category 2', 'Category 3', 'Category 4', 'Category 5']\n",
        "df['CATEGORY']= pd.cut(df['PRICE'], bins= [0, 10, 20, 30, 40, float('inf')], labels=category_labels, right=False)\n",
        "df['CATEGORY'].value_counts().idxmax()"
      ],
      "metadata": {
        "colab": {
          "base_uri": "https://localhost:8080/",
          "height": 35
        },
        "id": "w9iFl6b5GQwT",
        "outputId": "086f8241-6cd2-45b1-8dcf-2e9c47e2abf1"
      },
      "execution_count": 299,
      "outputs": [
        {
          "output_type": "execute_result",
          "data": {
            "text/plain": [
              "'Category 3'"
            ],
            "application/vnd.google.colaboratory.intrinsic+json": {
              "type": "string"
            }
          },
          "metadata": {},
          "execution_count": 299
        }
      ]
    },
    {
      "cell_type": "markdown",
      "source": [
        "Apply Pre processing\n",
        "Divide the data into training and test sets\n",
        "\n",
        "1. Replace the respective missing or unknown values in features room count, riverside and age with np.nan.\n",
        "2. Keep 30% of the data as test set.\n",
        "3. Use random_state as 0\n",
        "4. PRICE is the target, rest of the columns are the features.\n",
        "5. Apply train test split.\n"
      ],
      "metadata": {
        "id": "Rh3r59sNNziP"
      }
    },
    {
      "cell_type": "code",
      "source": [
        "# Replace the respective missing or unknown values in features room count, riverside and age with np.nan.\n",
        "import numpy as np\n",
        "df['RM']=df['RM'].apply(lambda x: np.nan if x<=0 else x)\n",
        "df['RIVERSIDE'] = df['RIVERSIDE'].apply(lambda x: np.nan if x not in ['YES', 'NO'] else x)\n",
        "df['AGE'] = df['AGE'].apply(lambda x: np.nan if x>200 or x <= 0 else x)\n",
        "\n",
        "# Keep 30% of the data as test set and random_state as 0\n",
        "from sklearn.model_selection import train_test_split\n",
        "X = df.drop(columns =['PRICE'])\n",
        "Y = df['PRICE']\n",
        "\n",
        "X_train, X_test ,Y_train,Y_test = train_test_split(X, Y, test_size =0.30 ,random_state=0)\n",
        "\n"
      ],
      "metadata": {
        "id": "hdo1xtHdN5wJ"
      },
      "execution_count": 300,
      "outputs": []
    },
    {
      "cell_type": "markdown",
      "source": [
        "What is the number of samples in the training set?"
      ],
      "metadata": {
        "id": "zXFc9R2oSdeq"
      }
    },
    {
      "cell_type": "code",
      "source": [
        "X_train.shape[0]"
      ],
      "metadata": {
        "colab": {
          "base_uri": "https://localhost:8080/"
        },
        "id": "vdBlK_FXSc-E",
        "outputId": "01936eae-c2d2-4617-a38e-7d4e8d6e26db"
      },
      "execution_count": 301,
      "outputs": [
        {
          "output_type": "execute_result",
          "data": {
            "text/plain": [
              "2800"
            ]
          },
          "metadata": {},
          "execution_count": 301
        }
      ]
    },
    {
      "cell_type": "markdown",
      "source": [
        "Apply following preprocessing steps:\n",
        "\n",
        "1. Drop CATEGORY column\n",
        "2. CRIM: min max scaling\n",
        "3. ZN: min max scaling\n",
        "4. INDUS: standard scaling\n",
        "5. POLINDEX: min max scaling\n",
        "6. DIS: min max scaling\n",
        "7. HIGHWAYCOUNT: min max scaling\n",
        "8. TAX: min max scaling\n",
        "9. PTRATIO: min max scaling\n",
        "10. IMM: min max scaling\n",
        "11. BPL: min max scaling\n",
        "12. RM: impute with median then min max scaling\n",
        "13. AGE: impute with mean then min max scaling\n",
        "14. RIVERSIDE: Impute with most frequent value then one hot encode.\n"
      ],
      "metadata": {
        "id": "S3B9S4lCS3Wf"
      }
    },
    {
      "cell_type": "code",
      "source": [
        "df = df.drop(columns='CATEGORY')\n",
        "from sklearn.preprocessing import MinMaxScaler, StandardScaler\n",
        "from sklearn.impute import SimpleImputer\n",
        "min_max = MinMaxScaler()\n",
        "scal = StandardScaler()\n",
        "\n",
        "imp = SimpleImputer(strategy = 'median')\n",
        "imp_mean = SimpleImputer(strategy = 'mean')\n",
        "imp_freq = SimpleImputer(strategy='most_frequent')\n",
        "\n",
        "X_train[['RM']] = imp.fit_transform(X_train[['RM']])\n",
        "X_test[['RM']] = imp.fit_transform(X_test[['RM']])\n",
        "\n",
        "X_train[['RM']] = min_max.fit_transform(X_train[['RM']])\n",
        "X_test[['RM']] = min_max.fit_transform(X_test[['RM']])\n",
        "\n",
        "\n",
        "min_max_cols = ['CRIM', 'ZN', 'POLINDEX', 'DIS', 'HIGHWAYCOUNT', 'TAX', 'PTRATIO', 'IMM', 'BPL','RM','AGE']\n",
        "standard_cols = ['INDUS']\n",
        "riverside_col = ['RIVERSIDE']\n",
        "\n",
        "X_train[min_max_cols] = min_max.fit_transform(X_train[min_max_cols])\n",
        "X_test[min_max_cols] = min_max.fit_transform(X_test[min_max_cols])\n",
        "\n",
        "X_train[standard_cols] = scal.fit_transform(X_train[standard_cols])\n",
        "X_test[standard_cols] = scal.fit_transform(X_test[standard_cols])\n",
        "\n",
        "X_train[riverside_col] = imp_freq.fit_transform(X_train[riverside_col])\n",
        "X_test[riverside_col] = imp_freq.fit_transform(X_test[riverside_col])\n",
        "\n",
        "X_train = pd.get_dummies(X_train, columns=riverside_col, drop_first=True)\n",
        "X_test = pd.get_dummies(X_test, columns=riverside_col, drop_first=True)\n",
        "\n",
        "\n",
        "\n"
      ],
      "metadata": {
        "id": "IEvXrydGS4Rf"
      },
      "execution_count": 302,
      "outputs": []
    },
    {
      "cell_type": "markdown",
      "source": [
        "How many features are there after performing above transformation?"
      ],
      "metadata": {
        "id": "jFSCOxjS-zPZ"
      }
    },
    {
      "cell_type": "code",
      "source": [
        "X_train.shape[1]"
      ],
      "metadata": {
        "colab": {
          "base_uri": "https://localhost:8080/"
        },
        "id": "2gcgPPil-jf4",
        "outputId": "ffcd6e80-9113-4a88-f17e-a7e1176e7d32"
      },
      "execution_count": 303,
      "outputs": [
        {
          "output_type": "execute_result",
          "data": {
            "text/plain": [
              "14"
            ]
          },
          "metadata": {},
          "execution_count": 303
        }
      ]
    },
    {
      "cell_type": "markdown",
      "source": [
        "What is the mean of the transformed test data (features only)?\n",
        "Note : Compute the mean of the whole feature matrix i.e. mean of all values in the transformed test feature matrix"
      ],
      "metadata": {
        "id": "aOwrwXeCCFYu"
      }
    },
    {
      "cell_type": "code",
      "source": [
        "X_test_numeric =X_test.select_dtypes(include=['number']).mean()\n",
        "X_test_numeric.mean()"
      ],
      "metadata": {
        "colab": {
          "base_uri": "https://localhost:8080/"
        },
        "id": "gXIFJXTxCGQM",
        "outputId": "2b870545-fcfc-44ee-a3b2-c6610280c728"
      },
      "execution_count": 304,
      "outputs": [
        {
          "output_type": "execute_result",
          "data": {
            "text/plain": [
              "0.3662646710700444"
            ]
          },
          "metadata": {},
          "execution_count": 304
        }
      ]
    }
  ]
}